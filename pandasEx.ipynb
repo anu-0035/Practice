{
 "cells": [
  {
   "cell_type": "code",
   "execution_count": 5,
   "id": "e8cd996f-9a6a-40e9-8bb6-59e5f4435ee0",
   "metadata": {},
   "outputs": [
    {
     "name": "stdout",
     "output_type": "stream",
     "text": [
      "    Name  Age         City\n",
      "0  alice   24       Tokiyo\n",
      "1    bob   25  Los Angeles\n",
      "2     me   20     New york\n"
     ]
    }
   ],
   "source": [
    "import pandas as pd\n",
    "a={\"Name\":[\"Alice\",\"Bob\",\"Me\"],\n",
    "   \"Age\":[24,25,20],\n",
    "   \"City\":[\"Tokiyo\",\"Los Angeles\",\"New york\"]\n",
    "    }\n",
    "d=pd.DataFrame(a)\n",
    "print(d)"
   ]
  },
  {
   "cell_type": "code",
   "execution_count": 7,
   "id": "978c899b-22e1-4307-b117-bc5932638b5f",
   "metadata": {},
   "outputs": [
    {
     "name": "stdout",
     "output_type": "stream",
     "text": [
      "    Name  Age         City\n",
      "0  alice   24       Tokiyo\n",
      "1    bob   25  Los Angeles\n"
     ]
    }
   ],
   "source": [
    "print(d.head(2))"
   ]
  },
  {
   "cell_type": "code",
   "execution_count": 9,
   "id": "b3ff96c9-4bf1-4246-b6f6-d81e9c0cb2a3",
   "metadata": {},
   "outputs": [
    {
     "name": "stdout",
     "output_type": "stream",
     "text": [
      "  Name  Age      City\n",
      "2   me   20  New york\n"
     ]
    }
   ],
   "source": [
    "print(d.tail(1))"
   ]
  },
  {
   "cell_type": "code",
   "execution_count": 11,
   "id": "b1173a83-9466-4977-9fb0-97c1b8630e0d",
   "metadata": {},
   "outputs": [
    {
     "name": "stdout",
     "output_type": "stream",
     "text": [
      "<class 'pandas.core.frame.DataFrame'>\n",
      "RangeIndex: 3 entries, 0 to 2\n",
      "Data columns (total 3 columns):\n",
      " #   Column  Non-Null Count  Dtype \n",
      "---  ------  --------------  ----- \n",
      " 0   Name    3 non-null      object\n",
      " 1   Age     3 non-null      int64 \n",
      " 2   City    3 non-null      object\n",
      "dtypes: int64(1), object(2)\n",
      "memory usage: 204.0+ bytes\n",
      "None\n"
     ]
    }
   ],
   "source": [
    "print(d.info())"
   ]
  },
  {
   "cell_type": "code",
   "execution_count": 15,
   "id": "3e66999c-5c6a-4c8b-83d6-7a4f1cd9256e",
   "metadata": {},
   "outputs": [
    {
     "name": "stdout",
     "output_type": "stream",
     "text": [
      "             Age\n",
      "count   3.000000\n",
      "mean   23.000000\n",
      "std     2.645751\n",
      "min    20.000000\n",
      "25%    22.000000\n",
      "50%    24.000000\n",
      "75%    24.500000\n",
      "max    25.000000\n"
     ]
    }
   ],
   "source": [
    "print(d.describe())"
   ]
  },
  {
   "cell_type": "code",
   "execution_count": 17,
   "id": "08e0be01-3b5b-4223-a27f-d09c159430d0",
   "metadata": {},
   "outputs": [
    {
     "name": "stdout",
     "output_type": "stream",
     "text": [
      "0         Tokiyo\n",
      "1    Los Angeles\n",
      "2       New york\n",
      "Name: City, dtype: object\n"
     ]
    }
   ],
   "source": [
    "print(d[\"City\"])"
   ]
  },
  {
   "cell_type": "code",
   "execution_count": 19,
   "id": "7df6f14a-4f28-4805-91bf-37cf9d8ffa07",
   "metadata": {},
   "outputs": [
    {
     "name": "stdout",
     "output_type": "stream",
     "text": [
      "    Name  Age         City\n",
      "0  alice   24       Tokiyo\n",
      "1    bob   25  Los Angeles\n"
     ]
    }
   ],
   "source": [
    "print(d[d['Age']>22])"
   ]
  },
  {
   "cell_type": "code",
   "execution_count": 21,
   "id": "d183a880-1f8f-4c4b-bab7-0965d607f330",
   "metadata": {},
   "outputs": [
    {
     "name": "stdout",
     "output_type": "stream",
     "text": [
      "    Name  Age         City  Salary\n",
      "0  alice   24       Tokiyo  300000\n",
      "1    bob   25  Los Angeles  400000\n",
      "2     me   20     New york  500000\n"
     ]
    }
   ],
   "source": [
    "d['Salary']=[300000,400000,500000]\n",
    "print(d)"
   ]
  },
  {
   "cell_type": "code",
   "execution_count": 23,
   "id": "45fa452c-33cb-4328-927e-65dac1db7ec2",
   "metadata": {},
   "outputs": [
    {
     "name": "stdout",
     "output_type": "stream",
     "text": [
      "    Name  Age         City  Salary\n",
      "0  alice   24       Tokiyo  400000\n",
      "1    bob   25  Los Angeles  500000\n",
      "2     me   20     New york  600000\n"
     ]
    }
   ],
   "source": [
    "d['Salary']+=100000\n",
    "print(d)"
   ]
  },
  {
   "cell_type": "code",
   "execution_count": null,
   "id": "9d4a97ef-11ad-44ed-8ded-d3bd168ddb65",
   "metadata": {},
   "outputs": [],
   "source": [
    "#d.drop(coloum=\"\")\n",
    "#d.drop(index=1)"
   ]
  },
  {
   "cell_type": "code",
   "execution_count": null,
   "id": "ce5eab03-48bf-4d2a-9264-39b0b74b9599",
   "metadata": {},
   "outputs": [],
   "source": []
  }
 ],
 "metadata": {
  "kernelspec": {
   "display_name": "Python 3 (ipykernel)",
   "language": "python",
   "name": "python3"
  },
  "language_info": {
   "codemirror_mode": {
    "name": "ipython",
    "version": 3
   },
   "file_extension": ".py",
   "mimetype": "text/x-python",
   "name": "python",
   "nbconvert_exporter": "python",
   "pygments_lexer": "ipython3",
   "version": "3.11.7"
  }
 },
 "nbformat": 4,
 "nbformat_minor": 5
}
