{
 "cells": [
  {
   "cell_type": "code",
   "execution_count": 5,
   "id": "c818c543-e3ca-4271-8755-9566ed3d7be7",
   "metadata": {},
   "outputs": [
    {
     "name": "stdout",
     "output_type": "stream",
     "text": [
      "Anagrams of 'DOG': ['DGO', 'DOG', 'GDO', 'GOD', 'ODG', 'OGD']\n"
     ]
    }
   ],
   "source": [
    "def find_anagrams(word):\n",
    "    def backtrack(path, remaining, result):\n",
    "        if not remaining:\n",
    "            result.append(path)\n",
    "            return\n",
    "        for i in range(len(remaining)):\n",
    "            # To avoid duplicates, skip the same character already used in this position\n",
    "            if i > 0 and remaining[i] == remaining[i - 1]:\n",
    "                continue\n",
    "            backtrack(path + remaining[i], remaining[:i] + remaining[i+1:], result)\n",
    "    \n",
    "    # Sort the word to handle duplicates and ensure unique permutations\n",
    "    sorted_word = sorted(word)\n",
    "    result = []\n",
    "    backtrack(\"\", sorted_word, result)\n",
    "    return result\n",
    "\n",
    "# Example usage\n",
    "word = \"DOG\"\n",
    "anagrams = find_anagrams(word)\n",
    "print(f\"Anagrams of '{word}': {anagrams}\")\n"
   ]
  },
  {
   "cell_type": "code",
   "execution_count": 1,
   "id": "9a72ece3-c841-4fbb-bccf-c761fb1e2094",
   "metadata": {},
   "outputs": [
    {
     "name": "stderr",
     "output_type": "stream",
     "text": [
      "WARNING: Wireshark is installed, but cannot read manuf !\n"
     ]
    },
    {
     "name": "stdout",
     "output_type": "stream",
     "text": [
      "[*] Starting sniffer on eth0\n"
     ]
    },
    {
     "ename": "OSError",
     "evalue": "Error opening adapter: The filename, directory name, or volume label syntax is incorrect.  (123)",
     "output_type": "error",
     "traceback": [
      "\u001b[1;31m---------------------------------------------------------------------------\u001b[0m",
      "\u001b[1;31mOSError\u001b[0m                                   Traceback (most recent call last)",
      "Cell \u001b[1;32mIn[1], line 23\u001b[0m\n\u001b[0;32m     21\u001b[0m \u001b[38;5;28;01mif\u001b[39;00m \u001b[38;5;18m__name__\u001b[39m \u001b[38;5;241m==\u001b[39m \u001b[38;5;124m\"\u001b[39m\u001b[38;5;124m__main__\u001b[39m\u001b[38;5;124m\"\u001b[39m:\n\u001b[0;32m     22\u001b[0m     interface \u001b[38;5;241m=\u001b[39m \u001b[38;5;124m\"\u001b[39m\u001b[38;5;124meth0\u001b[39m\u001b[38;5;124m\"\u001b[39m  \u001b[38;5;66;03m# Change this to your network interface\u001b[39;00m\n\u001b[1;32m---> 23\u001b[0m     start_sniffer(interface)\n",
      "Cell \u001b[1;32mIn[1], line 19\u001b[0m, in \u001b[0;36mstart_sniffer\u001b[1;34m(interface)\u001b[0m\n\u001b[0;32m     17\u001b[0m \u001b[38;5;28;01mdef\u001b[39;00m \u001b[38;5;21mstart_sniffer\u001b[39m(interface):\n\u001b[0;32m     18\u001b[0m     \u001b[38;5;28mprint\u001b[39m(\u001b[38;5;124mf\u001b[39m\u001b[38;5;124m\"\u001b[39m\u001b[38;5;124m[*] Starting sniffer on \u001b[39m\u001b[38;5;132;01m{\u001b[39;00minterface\u001b[38;5;132;01m}\u001b[39;00m\u001b[38;5;124m\"\u001b[39m)\n\u001b[1;32m---> 19\u001b[0m     sniff(iface\u001b[38;5;241m=\u001b[39minterface, prn\u001b[38;5;241m=\u001b[39mpacket_handler, store\u001b[38;5;241m=\u001b[39m\u001b[38;5;28;01mFalse\u001b[39;00m)\n",
      "File \u001b[1;32m~\\anaconda3\\Lib\\site-packages\\scapy\\sendrecv.py:1311\u001b[0m, in \u001b[0;36msniff\u001b[1;34m(*args, **kwargs)\u001b[0m\n\u001b[0;32m   1307\u001b[0m \u001b[38;5;129m@conf\u001b[39m\u001b[38;5;241m.\u001b[39mcommands\u001b[38;5;241m.\u001b[39mregister\n\u001b[0;32m   1308\u001b[0m \u001b[38;5;28;01mdef\u001b[39;00m \u001b[38;5;21msniff\u001b[39m(\u001b[38;5;241m*\u001b[39margs, \u001b[38;5;241m*\u001b[39m\u001b[38;5;241m*\u001b[39mkwargs):\n\u001b[0;32m   1309\u001b[0m     \u001b[38;5;66;03m# type: (*Any, **Any) -> PacketList\u001b[39;00m\n\u001b[0;32m   1310\u001b[0m     sniffer \u001b[38;5;241m=\u001b[39m AsyncSniffer()\n\u001b[1;32m-> 1311\u001b[0m     sniffer\u001b[38;5;241m.\u001b[39m_run(\u001b[38;5;241m*\u001b[39margs, \u001b[38;5;241m*\u001b[39m\u001b[38;5;241m*\u001b[39mkwargs)\n\u001b[0;32m   1312\u001b[0m     \u001b[38;5;28;01mreturn\u001b[39;00m cast(PacketList, sniffer\u001b[38;5;241m.\u001b[39mresults)\n",
      "File \u001b[1;32m~\\anaconda3\\Lib\\site-packages\\scapy\\sendrecv.py:1171\u001b[0m, in \u001b[0;36mAsyncSniffer._run\u001b[1;34m(self, count, store, offline, quiet, prn, lfilter, L2socket, timeout, opened_socket, stop_filter, iface, started_callback, session, session_kwargs, **karg)\u001b[0m\n\u001b[0;32m   1169\u001b[0m     \u001b[38;5;28;01melse\u001b[39;00m:\n\u001b[0;32m   1170\u001b[0m         iface \u001b[38;5;241m=\u001b[39m iface \u001b[38;5;129;01mor\u001b[39;00m conf\u001b[38;5;241m.\u001b[39miface\n\u001b[1;32m-> 1171\u001b[0m         sniff_sockets[_RL2(iface)(\u001b[38;5;28mtype\u001b[39m\u001b[38;5;241m=\u001b[39mETH_P_ALL, iface\u001b[38;5;241m=\u001b[39miface,\n\u001b[0;32m   1172\u001b[0m                                   \u001b[38;5;241m*\u001b[39m\u001b[38;5;241m*\u001b[39mkarg)] \u001b[38;5;241m=\u001b[39m iface\n\u001b[0;32m   1174\u001b[0m \u001b[38;5;66;03m# Get select information from the sockets\u001b[39;00m\n\u001b[0;32m   1175\u001b[0m _main_socket \u001b[38;5;241m=\u001b[39m \u001b[38;5;28mnext\u001b[39m(\u001b[38;5;28miter\u001b[39m(sniff_sockets))\n",
      "File \u001b[1;32m~\\anaconda3\\Lib\\site-packages\\scapy\\arch\\libpcap.py:481\u001b[0m, in \u001b[0;36mL2pcapListenSocket.__init__\u001b[1;34m(self, iface, type, promisc, filter, monitor)\u001b[0m\n\u001b[0;32m    479\u001b[0m \u001b[38;5;28;01melse\u001b[39;00m:\n\u001b[0;32m    480\u001b[0m     \u001b[38;5;28mself\u001b[39m\u001b[38;5;241m.\u001b[39mpromisc \u001b[38;5;241m=\u001b[39m conf\u001b[38;5;241m.\u001b[39msniff_promisc\n\u001b[1;32m--> 481\u001b[0m fd \u001b[38;5;241m=\u001b[39m open_pcap(\n\u001b[0;32m    482\u001b[0m     iface, MTU, \u001b[38;5;28mself\u001b[39m\u001b[38;5;241m.\u001b[39mpromisc, \u001b[38;5;241m100\u001b[39m,\n\u001b[0;32m    483\u001b[0m     monitor\u001b[38;5;241m=\u001b[39mmonitor\n\u001b[0;32m    484\u001b[0m )\n\u001b[0;32m    485\u001b[0m \u001b[38;5;28msuper\u001b[39m(L2pcapListenSocket, \u001b[38;5;28mself\u001b[39m)\u001b[38;5;241m.\u001b[39m\u001b[38;5;21m__init__\u001b[39m(fd)\n\u001b[0;32m    486\u001b[0m \u001b[38;5;28;01mtry\u001b[39;00m:\n",
      "File \u001b[1;32m~\\anaconda3\\Lib\\site-packages\\scapy\\arch\\windows\\__init__.py:770\u001b[0m, in \u001b[0;36mopen_pcap\u001b[1;34m(iface, *args, **kargs)\u001b[0m\n\u001b[0;32m    766\u001b[0m     \u001b[38;5;28;01mif\u001b[39;00m kw_monitor \u001b[38;5;129;01mis\u001b[39;00m \u001b[38;5;129;01mnot\u001b[39;00m monitored:\n\u001b[0;32m    767\u001b[0m         \u001b[38;5;66;03m# The monitor param is specified, and not matching the current\u001b[39;00m\n\u001b[0;32m    768\u001b[0m         \u001b[38;5;66;03m# interface state\u001b[39;00m\n\u001b[0;32m    769\u001b[0m         iface\u001b[38;5;241m.\u001b[39msetmonitor(kw_monitor)\n\u001b[1;32m--> 770\u001b[0m \u001b[38;5;28;01mreturn\u001b[39;00m _orig_open_pcap(iface_network_name, \u001b[38;5;241m*\u001b[39margs, \u001b[38;5;241m*\u001b[39m\u001b[38;5;241m*\u001b[39mkargs)\n",
      "File \u001b[1;32m~\\anaconda3\\Lib\\site-packages\\scapy\\arch\\libpcap.py:338\u001b[0m, in \u001b[0;36m_PcapWrapper_libpcap.__init__\u001b[1;34m(self, device, snaplen, promisc, to_ms, monitor)\u001b[0m\n\u001b[0;32m    336\u001b[0m     error \u001b[38;5;241m=\u001b[39m decode_locale_str(\u001b[38;5;28mbytearray\u001b[39m(\u001b[38;5;28mself\u001b[39m\u001b[38;5;241m.\u001b[39merrbuf)\u001b[38;5;241m.\u001b[39mstrip(\u001b[38;5;124mb\u001b[39m\u001b[38;5;124m\"\u001b[39m\u001b[38;5;130;01m\\x00\u001b[39;00m\u001b[38;5;124m\"\u001b[39m))\n\u001b[0;32m    337\u001b[0m     \u001b[38;5;28;01mif\u001b[39;00m error:\n\u001b[1;32m--> 338\u001b[0m         \u001b[38;5;28;01mraise\u001b[39;00m \u001b[38;5;167;01mOSError\u001b[39;00m(error)\n\u001b[0;32m    340\u001b[0m \u001b[38;5;28;01mif\u001b[39;00m WINDOWS:\n\u001b[0;32m    341\u001b[0m     \u001b[38;5;66;03m# Winpcap/Npcap exclusive: make every packet to be instantly\u001b[39;00m\n\u001b[0;32m    342\u001b[0m     \u001b[38;5;66;03m# returned, and not buffered within Winpcap/Npcap\u001b[39;00m\n\u001b[0;32m    343\u001b[0m     pcap_setmintocopy(\u001b[38;5;28mself\u001b[39m\u001b[38;5;241m.\u001b[39mpcap, \u001b[38;5;241m0\u001b[39m)\n",
      "\u001b[1;31mOSError\u001b[0m: Error opening adapter: The filename, directory name, or volume label syntax is incorrect.  (123)"
     ]
    }
   ],
   "source": [
    "from scapy.all import sniff, Raw\n",
    "from scapy.layers.inet import IP, TCP, UDP\n",
    "\n",
    "def packet_handler(packet):\n",
    "    if packet.haslayer(IP):\n",
    "        ip_layer = packet.getlayer(IP)\n",
    "        print(f\"[!] New Packet: {ip_layer.src} -> {ip_layer.dst}\")\n",
    "        if packet.haslayer(TCP):\n",
    "            tcp_layer = packet.getlayer(TCP)\n",
    "            print(f\"   [TCP] Port: {tcp_layer.sport} -> {tcp_layer.dport}\")\n",
    "            if packet.haslayer(Raw):\n",
    "                print(f\"   [Raw] Data: {packet[Raw].load}\")\n",
    "        elif packet.haslayer(UDP):\n",
    "            udp_layer = packet.getlayer(UDP)\n",
    "            print(f\"   [UDP] Port: {udp_layer.sport} -> {udp_layer.dport}\")\n",
    "\n",
    "def start_sniffer(interface):\n",
    "    print(f\"[*] Starting sniffer on {interface}\")\n",
    "    sniff(iface=interface, prn=packet_handler, store=False)\n",
    "\n",
    "if __name__ == \"__main__\":\n",
    "    interface = \"eth0\"  # Change this to your network interface\n",
    "    start_sniffer(interface)\n"
   ]
  },
  {
   "cell_type": "code",
   "execution_count": 10,
   "id": "5ddd674a-fc84-4558-9f92-c6aab65710dc",
   "metadata": {},
   "outputs": [
    {
     "name": "stdout",
     "output_type": "stream",
     "text": [
      "Requirement already satisfied: scapy in c:\\users\\anu\\anaconda3\\lib\\site-packages (2.5.0)\n",
      "Note: you may need to restart the kernel to use updated packages.\n"
     ]
    }
   ],
   "source": [
    "pip install scapy"
   ]
  },
  {
   "cell_type": "code",
   "execution_count": null,
   "id": "7683132b-d8b9-4b58-96c8-9279a6c3e089",
   "metadata": {},
   "outputs": [],
   "source": [
    "from scapy.all import sniff, Raw, get_if_list, get_if_hwaddr\n",
    "from scapy.layers.inet import IP, TCP, UDP\n",
    "\n",
    "def packet_handler(packet):\n",
    "    if packet.haslayer(IP):\n",
    "        ip_layer = packet.getlayer(IP)\n",
    "        print(f\"[!] New Packet: {ip_layer.src} -> {ip_layer.dst}\")\n",
    "        if packet.haslayer(TCP):\n",
    "            tcp_layer = packet.getlayer(TCP)\n",
    "            print(f\"   [TCP] Port: {tcp_layer.sport} -> {tcp_layer.dport}\")\n",
    "            if packet.haslayer(Raw):\n",
    "                print(f\"   [Raw] Data: {packet[Raw].load}\")\n",
    "        elif packet.haslayer(UDP):\n",
    "            udp_layer = packet.getlayer(UDP)\n",
    "            print(f\"   [UDP] Port: {udp_layer.sport} -> {udp_layer.dport}\")\n",
    "\n",
    "def start_sniffer(interface):\n",
    "    print(f\"[*] Starting sniffer on {interface}\")\n",
    "    sniff(iface=interface, prn=packet_handler, store=False)\n",
    "\n",
    "if __name__ == \"__main__\":\n",
    "    interfaces = get_if_list()\n",
    "    print(\"Available network interfaces:\")\n",
    "    for idx, iface in enumerate(interfaces):\n",
    "        print(f\"{idx}: {iface} - {get_if_hwaddr(iface)}\")\n",
    "    \n",
    "    interface_idx = int(input(\"Select an interface by number: \"))\n",
    "    interface = interfaces[interface_idx]\n",
    "    \n",
    "    start_sniffer(interface)\n"
   ]
  },
  {
   "cell_type": "code",
   "execution_count": null,
   "id": "87f218b8-7289-40c5-a7c7-9f427a02f5ed",
   "metadata": {},
   "outputs": [],
   "source": [
    "from scapy.all import sniff, IP, TCP, UDP\n",
    "from collections import defaultdict, deque\n",
    "import threading\n",
    "\n",
    "# Data structures\n",
    "packet_queue = deque()\n",
    "packet_count = defaultdict(int)\n",
    "ip_count = defaultdict(int)\n",
    "port_count = defaultdict(int)\n",
    "\n",
    "# Packet processing function\n",
    "def process_packet(packet):\n",
    "    if packet.haslayer(IP):\n",
    "        ip_layer = packet[IP]\n",
    "        src_ip = ip_layer.src\n",
    "        dst_ip = ip_layer.dst\n",
    "        ip_count[src_ip] += 1\n",
    "        ip_count[dst_ip] += 1\n",
    "        if packet.haslayer(TCP):\n",
    "            tcp_layer = packet[TCP]\n",
    "            port_count[tcp_layer.sport] += 1\n",
    "            port_count[tcp_layer.dport] += 1\n",
    "        elif packet.haslayer(UDP):\n",
    "            udp_layer = packet[UDP]\n",
    "            port_count[udp_layer.sport] += 1\n",
    "            port_count[udp_layer.dport] += 1\n",
    "\n",
    "# Packet handler function\n",
    "def packet_handler(packet):\n",
    "    packet_queue.append(packet)\n",
    "\n",
    "# Sniffer function\n",
    "def start_sniffer(interface):\n",
    "    print(f\"[*] Starting sniffer on {interface}\")\n",
    "    sniff(iface=interface, prn=packet_handler, store=False)\n",
    "\n",
    "# Worker function to process packets\n",
    "def packet_processor():\n",
    "    while True:\n",
    "        if packet_queue:\n",
    "            packet = packet_queue.popleft()\n",
    "            process_packet(packet)\n",
    "\n",
    "# Main function\n",
    "if __name__ == \"__main__\":\n",
    "    interface = input(\"Enter the network interface to sniff on: \")\n",
    "    sniffer_thread = threading.Thread(target=start_sniffer, args=(interface,))\n",
    "    processor_thread = threading.Thread(target=packet_processor)\n",
    "    \n",
    "    sniffer_thread.start()\n",
    "    processor_thread.start()\n",
    "\n",
    "    sniffer_thread.join()\n",
    "    processor_thread.join()\n"
   ]
  },
  {
   "cell_type": "code",
   "execution_count": null,
   "id": "25d0d4e8-7a5b-4c9b-8324-e34a9bed4061",
   "metadata": {},
   "outputs": [],
   "source": [
    "from scapy.all import sniff, IP, TCP, UDP\n",
    "from collections import defaultdict, deque\n",
    "import threading\n",
    "\n",
    "# Data structures\n",
    "packet_queue = deque()\n",
    "packet_count = defaultdict(int)\n",
    "ip_count = defaultdict(int)\n",
    "port_count = defaultdict(int)\n",
    "\n",
    "# Packet processing function\n",
    "def process_packet(packet):\n",
    "    if packet.haslayer(IP):\n",
    "        ip_layer = packet[IP]\n",
    "        src_ip = ip_layer.src\n",
    "        dst_ip = ip_layer.dst\n",
    "        ip_count[src_ip] += 1\n",
    "        ip_count[dst_ip] += 1\n",
    "        if packet.haslayer(TCP):\n",
    "            tcp_layer = packet[TCP]\n",
    "            port_count[tcp_layer.sport] += 1\n",
    "            port_count[tcp_layer.dport] += 1\n",
    "        elif packet.haslayer(UDP):\n",
    "            udp_layer = packet[UDP]\n",
    "            port_count[udp_layer.sport] += 1\n",
    "            port_count[udp_layer.dport] += 1\n",
    "\n",
    "# Packet handler function\n",
    "def packet_handler(packet):\n",
    "    packet_queue.append(packet)\n",
    "\n",
    "# Sniffer function\n",
    "def start_sniffer(interface):\n",
    "    print(f\"[*] Starting sniffer on {interface}\")\n",
    "    sniff(iface=interface, prn=packet_handler, store=False)\n",
    "\n",
    "# Worker function to process packets\n",
    "def packet_processor():\n",
    "    while True:\n",
    "        if packet_queue:\n",
    "            packet = packet_queue.popleft()\n",
    "            process_packet(packet)\n",
    "\n",
    "# Main function\n",
    "if __name__ == \"__main__\":\n",
    "    interface = input(\"Enter the network interface to sniff on: \")\n",
    "    sniffer_thread = threading.Thread(target=start_sniffer, args=(interface,))\n",
    "    processor_thread = threading.Thread(target=packet_processor)\n",
    "    \n",
    "    sniffer_thread.start()\n",
    "    processor_thread.start()\n",
    "\n",
    "    sniffer_thread.join()\n",
    "    processor_thread.join()\n"
   ]
  },
  {
   "cell_type": "code",
   "execution_count": null,
   "id": "ce49b3ca-923d-4614-a2ff-120adbe99e83",
   "metadata": {},
   "outputs": [],
   "source": []
  }
 ],
 "metadata": {
  "kernelspec": {
   "display_name": "Python 3 (ipykernel)",
   "language": "python",
   "name": "python3"
  },
  "language_info": {
   "codemirror_mode": {
    "name": "ipython",
    "version": 3
   },
   "file_extension": ".py",
   "mimetype": "text/x-python",
   "name": "python",
   "nbconvert_exporter": "python",
   "pygments_lexer": "ipython3",
   "version": "3.11.7"
  }
 },
 "nbformat": 4,
 "nbformat_minor": 5
}
