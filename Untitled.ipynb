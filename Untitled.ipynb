{
 "cells": [
  {
   "cell_type": "code",
   "execution_count": 1,
   "id": "6272a8b9-4c0f-4998-aa54-2cfdd9dc6f26",
   "metadata": {},
   "outputs": [
    {
     "name": "stdout",
     "output_type": "stream",
     "text": [
      "hello world\n"
     ]
    }
   ],
   "source": [
    "print(\"hello world\")"
   ]
  },
  {
   "cell_type": "code",
   "execution_count": 2,
   "id": "45133c84-2d8a-4064-ba97-1ffc9d4bd594",
   "metadata": {},
   "outputs": [
    {
     "name": "stdout",
     "output_type": "stream",
     "text": [
      "10\n"
     ]
    }
   ],
   "source": [
    "a=2+8\n",
    "print(a)"
   ]
  },
  {
   "cell_type": "code",
   "execution_count": 3,
   "id": "25b6b950-80e1-494b-a38b-80b5df528d55",
   "metadata": {},
   "outputs": [
    {
     "name": "stdout",
     "output_type": "stream",
     "text": [
      "5040\n"
     ]
    }
   ],
   "source": [
    "def fact(x):\n",
    "    if(x==1 or x==0):\n",
    "        return 1\n",
    "    return x*fact(x-1)\n",
    "print(fact(7))"
   ]
  },
  {
   "cell_type": "code",
   "execution_count": 1,
   "id": "8c545f26-f974-4d0b-9fdc-768bbfe720d4",
   "metadata": {},
   "outputs": [
    {
     "name": "stdout",
     "output_type": "stream",
     "text": [
      "1\n",
      "2\n",
      "3\n",
      "4\n",
      "5\n",
      "6\n"
     ]
    }
   ],
   "source": [
    "def rec(x):\n",
    "    if(x==0):\n",
    "        return \n",
    "    rec(x-1)\n",
    "    print(x)\n",
    "rec(6)"
   ]
  },
  {
   "cell_type": "code",
   "execution_count": 19,
   "id": "9bfe2912-5568-4939-bd35-5cc73655b440",
   "metadata": {},
   "outputs": [],
   "source": [
    "a=[]*10\n",
    "for i in a:\n",
    "    print(i)"
   ]
  },
  {
   "cell_type": "code",
   "execution_count": 29,
   "id": "60b94957-4a83-4f45-8021-eec853049b6d",
   "metadata": {},
   "outputs": [
    {
     "ename": "NameError",
     "evalue": "name 'stack' is not defined",
     "output_type": "error",
     "traceback": [
      "\u001b[1;31m---------------------------------------------------------------------------\u001b[0m",
      "\u001b[1;31mNameError\u001b[0m                                 Traceback (most recent call last)",
      "Cell \u001b[1;32mIn[29], line 2\u001b[0m\n\u001b[0;32m      1\u001b[0m a\u001b[38;5;241m=\u001b[39m[]\n\u001b[1;32m----> 2\u001b[0m stack(a)\n",
      "\u001b[1;31mNameError\u001b[0m: name 'stack' is not defined"
     ]
    }
   ],
   "source": []
  },
  {
   "cell_type": "code",
   "execution_count": 21,
   "id": "23b0f48a-fc7b-4bc8-a655-e9069d50de1c",
   "metadata": {},
   "outputs": [
    {
     "data": {
      "text/plain": [
       "[]"
      ]
     },
     "execution_count": 21,
     "metadata": {},
     "output_type": "execute_result"
    }
   ],
   "source": []
  },
  {
   "cell_type": "code",
   "execution_count": 3,
   "id": "1e25a354-2ef2-4aeb-961e-7210b0c9c132",
   "metadata": {},
   "outputs": [],
   "source": [
    "import Digital_Clock"
   ]
  },
  {
   "cell_type": "code",
   "execution_count": null,
   "id": "a87b5808-1a42-4555-a9ea-8c922e2a6c33",
   "metadata": {},
   "outputs": [],
   "source": []
  }
 ],
 "metadata": {
  "kernelspec": {
   "display_name": "Python 3 (ipykernel)",
   "language": "python",
   "name": "python3"
  },
  "language_info": {
   "codemirror_mode": {
    "name": "ipython",
    "version": 3
   },
   "file_extension": ".py",
   "mimetype": "text/x-python",
   "name": "python",
   "nbconvert_exporter": "python",
   "pygments_lexer": "ipython3",
   "version": "3.11.7"
  }
 },
 "nbformat": 4,
 "nbformat_minor": 5
}
