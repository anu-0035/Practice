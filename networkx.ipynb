{
 "cells": [
  {
   "cell_type": "code",
   "execution_count": null,
   "id": "14da380b-28c5-495d-8824-bb03d28b25fa",
   "metadata": {
    "collapsed": true,
    "jupyter": {
     "outputs_hidden": true
    }
   },
   "outputs": [],
   "source": [
    "pip install networkx\n"
   ]
  },
  {
   "cell_type": "code",
   "execution_count": 3,
   "id": "9df3610a-3480-43fd-baec-696e501f6fce",
   "metadata": {
    "collapsed": true,
    "jupyter": {
     "outputs_hidden": true
    }
   },
   "outputs": [],
   "source": [
    "import networkx as nx\n"
   ]
  },
  {
   "cell_type": "code",
   "execution_count": null,
   "id": "597518e0-eea5-4b00-adf3-368c2ffab9b1",
   "metadata": {
    "collapsed": true,
    "jupyter": {
     "outputs_hidden": true
    }
   },
   "outputs": [],
   "source": [
    "g1 = nx.Graph()\n",
    "g2 = nx.DiGraph()\n",
    "g3 = nx.MultiGraph()\n",
    "g4 = nx.MultiDiGraph()"
   ]
  },
  {
   "cell_type": "code",
   "execution_count": 20,
   "id": "f7d75975-4977-44c3-9f93-5ba18435fc7b",
   "metadata": {
    "collapsed": true,
    "jupyter": {
     "outputs_hidden": true
    }
   },
   "outputs": [
    {
     "name": "stdout",
     "output_type": "stream",
     "text": [
      "Graph with 5 nodes and 0 edges\n",
      "Graph with 5 nodes and 0 edges\n"
     ]
    }
   ],
   "source": [
    "g1.add_node(1)\n",
    "print(g1)\n",
    "g1.add_nodes_from([2,3,4,5])\n",
    "print(g1)\n"
   ]
  },
  {
   "cell_type": "code",
   "execution_count": 24,
   "id": "e03f7317-34a6-4d2e-a110-96c6d276c9c1",
   "metadata": {
    "collapsed": true,
    "jupyter": {
     "outputs_hidden": true
    }
   },
   "outputs": [
    {
     "name": "stdout",
     "output_type": "stream",
     "text": [
      "Graph with 7 nodes and 2 edges\n"
     ]
    }
   ],
   "source": [
    "g1.add_edge(6,7)\n",
    "g1.add_edge(1,2)\n",
    "print(g1)"
   ]
  },
  {
   "cell_type": "code",
   "execution_count": 30,
   "id": "648dd306-39cb-4617-ad56-c106790a2240",
   "metadata": {
    "collapsed": true,
    "jupyter": {
     "outputs_hidden": true
    }
   },
   "outputs": [
    {
     "name": "stdout",
     "output_type": "stream",
     "text": [
      "Graph with 7 nodes and 7 edges\n"
     ]
    }
   ],
   "source": [
    "g1.add_edges_from([(2,3),(4,5),(3,4)])\n",
    "print(g1)"
   ]
  },
  {
   "cell_type": "code",
   "execution_count": 32,
   "id": "1daee98e-74ad-41b5-a97e-10fc21317533",
   "metadata": {
    "collapsed": true,
    "jupyter": {
     "outputs_hidden": true
    }
   },
   "outputs": [
    {
     "name": "stdout",
     "output_type": "stream",
     "text": [
      "Graph with 7 nodes and 7 edges\n"
     ]
    }
   ],
   "source": [
    "g1.add_edge(4,5,weight=2)\n",
    "g1.add_edge(5,6,friends = True)\n",
    "g1.add_edge(7,1,weight=5,friends=False)\n",
    "print(g1)"
   ]
  },
  {
   "cell_type": "code",
   "execution_count": 36,
   "id": "ceb0a25e-40c8-4c80-8866-505eec661cd8",
   "metadata": {
    "collapsed": true,
    "jupyter": {
     "outputs_hidden": true
    }
   },
   "outputs": [
    {
     "name": "stdout",
     "output_type": "stream",
     "text": [
      "{2: {}, 7: {'weight': 5, 'friends': False}}\n",
      "{'weight': 5, 'friends': False}\n"
     ]
    }
   ],
   "source": [
    "print(g1[1])\n",
    "print(g1[7][1])\n"
   ]
  },
  {
   "cell_type": "code",
   "execution_count": 38,
   "id": "3017a213-ae94-4375-8b17-74fe486514df",
   "metadata": {
    "collapsed": true,
    "jupyter": {
     "outputs_hidden": true
    }
   },
   "outputs": [
    {
     "name": "stdout",
     "output_type": "stream",
     "text": [
      "[1, 2, 3, 4, 5, 6, 7]\n",
      "[(1, 2), (1, 7), (2, 3), (3, 4), (4, 5), (5, 6), (6, 7)]\n"
     ]
    }
   ],
   "source": [
    "print(g1.nodes)\n",
    "print(g1.edges)"
   ]
  },
  {
   "cell_type": "code",
   "execution_count": 40,
   "id": "dc21e5fa-d69c-4cf2-a162-4b26b87f7f8e",
   "metadata": {
    "collapsed": true,
    "jupyter": {
     "outputs_hidden": true
    }
   },
   "outputs": [
    {
     "name": "stdout",
     "output_type": "stream",
     "text": [
      "[(1, 2, {}), (1, 7, {'weight': 5, 'friends': False}), (2, 3, {}), (3, 4, {}), (4, 5, {'weight': 2}), (5, 6, {'friends': True}), (6, 7, {})]\n"
     ]
    }
   ],
   "source": [
    "print(g1.edges.data())"
   ]
  },
  {
   "cell_type": "code",
   "execution_count": 42,
   "id": "5e069d08-aca8-4053-aa34-a4800320aaaf",
   "metadata": {
    "collapsed": true,
    "jupyter": {
     "outputs_hidden": true
    }
   },
   "outputs": [
    {
     "name": "stdout",
     "output_type": "stream",
     "text": [
      "[(1, 2, None), (1, 7, 5), (2, 3, None), (3, 4, None), (4, 5, 2), (5, 6, None), (6, 7, None)]\n"
     ]
    }
   ],
   "source": [
    "print(g1.edges.data(\"weight\"))"
   ]
  },
  {
   "cell_type": "code",
   "execution_count": 46,
   "id": "b8decd2e-a5f4-42b8-b25f-43a5ab228207",
   "metadata": {
    "collapsed": true,
    "jupyter": {
     "outputs_hidden": true
    }
   },
   "outputs": [
    {
     "name": "stdout",
     "output_type": "stream",
     "text": [
      "5\n"
     ]
    }
   ],
   "source": [
    "print(g1.edges[7,1][\"weight\"])"
   ]
  },
  {
   "cell_type": "code",
   "execution_count": null,
   "id": "a78ab7be-7e4b-4787-9db9-af48b1b9d458",
   "metadata": {
    "collapsed": true,
    "jupyter": {
     "outputs_hidden": true
    }
   },
   "outputs": [],
   "source": [
    "g1.remove_node(3)\n",
    "print(g1)\n"
   ]
  },
  {
   "cell_type": "code",
   "execution_count": 48,
   "id": "93da8c0b-26d2-4c8b-b5c6-8c96945c155d",
   "metadata": {
    "collapsed": true,
    "jupyter": {
     "outputs_hidden": true
    }
   },
   "outputs": [
    {
     "data": {
      "image/png": "[encoded data removed]",
      "text/plain": [
       "<Figure size 640x480 with 1 Axes>"
      ]
     },
     "metadata": {},
     "output_type": "display_data"
    }
   ],
   "source": [
    "nx.draw(g1)"
   ]
  },
  {
   "cell_type": "code",
   "execution_count": 56,
   "id": "2c898efe-66b5-4609-9adf-522ef0cef269",
   "metadata": {
    "collapsed": true,
    "jupyter": {
     "outputs_hidden": true
    }
   },
   "outputs": [
    {
     "data": {
      "image/png": "[encoded data removed]",
      "text/plain": [
       "<Figure size 640x480 with 1 Axes>"
      ]
     },
     "metadata": {},
     "output_type": "display_data"
    }
   ],
   "source": [
    "nx.draw(g1,pos=nx.circular_layout(g1), node_color = \"g\", edge_color='b', with_labels=True,node_size=500,node_shape='s',alpha=0.5,style='--' )"
   ]
  },
  {
   "cell_type": "code",
   "execution_count": null,
   "id": "e94070d2-20a2-4943-9448-20d9d6f2b5dd",
   "metadata": {
    "collapsed": true,
    "jupyter": {
     "outputs_hidden": true
    }
   },
   "outputs": [],
   "source": []
  },
  {
   "cell_type": "code",
   "execution_count": null,
   "id": "60cb8c73-aed0-4fee-bf12-a20b6b36d7cd",
   "metadata": {
    "collapsed": true,
    "jupyter": {
     "outputs_hidden": true
    }
   },
   "outputs": [],
   "source": []
  }
 ],
 "metadata": {
  "kernelspec": {
   "display_name": "Python 3 (ipykernel)",
   "language": "python",
   "name": "python3"
  },
  "language_info": {
   "codemirror_mode": {
    "name": "ipython",
    "version": 3
   },
   "file_extension": ".py",
   "mimetype": "text/x-python",
   "name": "python",
   "nbconvert_exporter": "python",
   "pygments_lexer": "ipython3",
   "version": "3.11.7"
  }
 },
 "nbformat": 4,
 "nbformat_minor": 5
}
