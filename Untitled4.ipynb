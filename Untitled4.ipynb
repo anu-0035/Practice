{
 "cells": [
  {
   "cell_type": "code",
   "execution_count": 9,
   "id": "0aebd87a-aef1-4d72-ae7e-2b15ce87274a",
   "metadata": {},
   "outputs": [
    {
     "name": "stdout",
     "output_type": "stream",
     "text": [
      "[5, 3, 4, 6, 7, 8, 9, 1, 2]\n",
      "[6, 7, 2, 1, 9, 5, 3, 4, 8]\n",
      "[1, 9, 8, 3, 4, 2, 5, 6, 7]\n",
      "[8, 5, 9, 7, 6, 1, 4, 2, 3]\n",
      "[4, 2, 6, 8, 5, 3, 7, 9, 1]\n",
      "[7, 1, 3, 9, 2, 4, 8, 5, 6]\n",
      "[9, 6, 1, 5, 3, 7, 2, 8, 4]\n",
      "[2, 8, 7, 4, 1, 9, 6, 3, 5]\n",
      "[3, 4, 5, 2, 8, 6, 1, 7, 9]\n"
     ]
    }
   ],
   "source": [
    "def is_valid(board, row, col, num):\n",
    "    # Check for row\n",
    "    if num in board[row]:\n",
    "        return False\n",
    "    \n",
    "    # Check for column\n",
    "    if num in [board[i][col] for i in range(9)]:\n",
    "        return False\n",
    "    \n",
    "    # Check for 3x3 subgrid\n",
    "    start_row, start_col = 3 * (row // 3), 3 * (col // 3)\n",
    "    for i in range(start_row, start_row + 3):\n",
    "        for j in range(start_col, start_col + 3):\n",
    "            if board[i][j] == num:\n",
    "                return False\n",
    "    \n",
    "    return True\n",
    "\n",
    "def solve_sudoku(board):\n",
    "    def dp(row, col):\n",
    "        if row == 9:\n",
    "            return True\n",
    "        if col == 9:\n",
    "            return dp(row + 1, 0)\n",
    "        if board[row][col] != 0:\n",
    "            return dp(row, col + 1)\n",
    "        \n",
    "        for num in range(1, 10):\n",
    "            if is_valid(board, row, col, num):\n",
    "                board[row][col] = num\n",
    "                if dp(row, col + 1):\n",
    "                    return True\n",
    "                board[row][col] = 0\n",
    "        \n",
    "        return False\n",
    "    \n",
    "    dp(0, 0)\n",
    "\n",
    "#Displaying board\n",
    "def print_board(board):\n",
    "    for row in board:\n",
    "        print(row)\n",
    "\n",
    "# board\n",
    "board = [\n",
    "    [5, 3, 0, 0, 7, 0, 0, 0, 0],\n",
    "    [6, 0, 0, 1, 9, 5, 0, 0, 0],\n",
    "    [0, 9, 8, 0, 0, 0, 0, 6, 0],\n",
    "    [8, 0, 0, 0, 6, 0, 0, 0, 3],\n",
    "    [4, 0, 0, 8, 0, 3, 0, 0, 1],\n",
    "    [7, 0, 0, 0, 2, 0, 0, 0, 6],\n",
    "    [0, 6, 0, 0, 0, 0, 2, 8, 0],\n",
    "    [0, 0, 0, 4, 1, 9, 0, 0, 5],\n",
    "    [0, 0, 0, 0, 8, 0, 0, 7, 9]\n",
    "]\n",
    "\n",
    "solve_sudoku(board)\n",
    "print_board(board)\n"
   ]
  },
  {
   "cell_type": "code",
   "execution_count": 7,
   "id": "69c9b81f-fecf-43ce-8d0f-6bde58de1d58",
   "metadata": {},
   "outputs": [
    {
     "name": "stdout",
     "output_type": "stream",
     "text": [
      "Solved Board 1:\n",
      "[8, 1, 2, 7, 5, 3, 6, 4, 9]\n",
      "[9, 4, 3, 6, 8, 2, 1, 7, 5]\n",
      "[6, 7, 5, 4, 9, 1, 2, 8, 3]\n",
      "[1, 5, 4, 2, 3, 7, 8, 9, 6]\n",
      "[3, 6, 9, 8, 4, 5, 7, 2, 1]\n",
      "[2, 8, 7, 1, 6, 9, 5, 3, 4]\n",
      "[5, 2, 1, 9, 7, 4, 3, 6, 8]\n",
      "[4, 3, 8, 5, 2, 6, 9, 1, 7]\n",
      "[7, 9, 6, 3, 1, 8, 4, 5, 2]\n",
      "\n",
      "Solved Board 2:\n",
      "[5, 8, 1, 6, 7, 2, 4, 3, 9]\n",
      "[7, 9, 2, 8, 4, 3, 6, 5, 1]\n",
      "[3, 6, 4, 5, 9, 1, 7, 8, 2]\n",
      "[4, 3, 8, 9, 5, 7, 2, 1, 6]\n",
      "[2, 5, 6, 1, 8, 4, 9, 7, 3]\n",
      "[1, 7, 9, 3, 2, 6, 8, 4, 5]\n",
      "[8, 4, 5, 2, 1, 9, 3, 6, 7]\n",
      "[9, 1, 3, 7, 6, 8, 5, 2, 4]\n",
      "[6, 2, 7, 4, 3, 5, 1, 9, 8]\n",
      "\n",
      "Solved Board 3:\n",
      "[1, 6, 2, 8, 5, 7, 4, 9, 3]\n",
      "[5, 3, 4, 1, 2, 9, 6, 7, 8]\n",
      "[7, 8, 9, 6, 4, 3, 5, 2, 1]\n",
      "[4, 7, 5, 3, 1, 2, 9, 8, 6]\n",
      "[9, 1, 3, 5, 8, 6, 7, 4, 2]\n",
      "[6, 2, 8, 7, 9, 4, 1, 3, 5]\n",
      "[3, 5, 6, 4, 7, 8, 2, 1, 9]\n",
      "[2, 4, 1, 9, 3, 5, 8, 6, 7]\n",
      "[8, 9, 7, 2, 6, 1, 3, 5, 4]\n",
      "\n",
      "Solved Board 4:\n",
      "[1, 2, 5, 4, 6, 7, 8, 9, 3]\n",
      "[8, 4, 7, 3, 1, 9, 2, 5, 6]\n",
      "[3, 6, 9, 5, 2, 8, 4, 7, 1]\n",
      "[2, 1, 8, 6, 7, 3, 5, 4, 9]\n",
      "[6, 7, 4, 2, 9, 5, 1, 3, 8]\n",
      "[9, 5, 3, 1, 8, 4, 6, 2, 7]\n",
      "[5, 3, 1, 7, 4, 6, 9, 8, 2]\n",
      "[4, 8, 2, 9, 3, 1, 7, 6, 5]\n",
      "[7, 9, 6, 8, 5, 2, 3, 1, 4]\n"
     ]
    }
   ],
   "source": [
    "board1 = [\n",
    "    [8, 0, 0, 0, 0, 0, 0, 0, 0],\n",
    "    [0, 0, 3, 6, 0, 0, 0, 0, 0],\n",
    "    [0, 7, 0, 0, 9, 0, 2, 0, 0],\n",
    "    [0, 5, 0, 0, 0, 7, 0, 0, 0],\n",
    "    [0, 0, 0, 0, 4, 5, 7, 0, 0],\n",
    "    [0, 0, 0, 1, 0, 0, 0, 3, 0],\n",
    "    [0, 0, 1, 0, 0, 0, 0, 6, 8],\n",
    "    [0, 0, 8, 5, 0, 0, 0, 1, 0],\n",
    "    [0, 9, 0, 0, 0, 0, 4, 0, 0]\n",
    "]\n",
    "board2 = [\n",
    "    [0, 0, 0, 6, 0, 0, 4, 0, 0],\n",
    "    [7, 0, 0, 0, 0, 3, 6, 0, 0],\n",
    "    [0, 0, 0, 0, 9, 1, 0, 8, 0],\n",
    "    [0, 0, 0, 0, 0, 0, 0, 0, 0],\n",
    "    [0, 5, 0, 1, 8, 0, 0, 0, 3],\n",
    "    [0, 0, 0, 3, 0, 6, 0, 4, 5],\n",
    "    [0, 4, 0, 2, 0, 0, 0, 6, 0],\n",
    "    [9, 0, 3, 0, 0, 0, 0, 0, 0],\n",
    "    [0, 2, 0, 0, 0, 0, 1, 0, 0]\n",
    "]\n",
    "board3 = [\n",
    "    [1, 0, 0, 0, 0, 7, 0, 9, 0],\n",
    "    [0, 3, 0, 0, 2, 0, 0, 0, 8],\n",
    "    [0, 0, 9, 6, 0, 0, 5, 0, 0],\n",
    "    [0, 0, 5, 3, 0, 0, 9, 0, 0],\n",
    "    [0, 1, 0, 0, 8, 0, 0, 0, 2],\n",
    "    [6, 0, 0, 0, 0, 4, 0, 0, 0],\n",
    "    [3, 0, 0, 0, 0, 0, 0, 1, 0],\n",
    "    [0, 4, 0, 0, 0, 0, 0, 0, 7],\n",
    "    [0, 0, 7, 0, 0, 0, 3, 0, 0]\n",
    "]\n",
    "board4 = [\n",
    "    [0, 0, 0, 0, 6, 0, 0, 0, 3],\n",
    "    [0, 4, 0, 3, 0, 0, 0, 0, 0],\n",
    "    [0, 0, 0, 0, 0, 8, 4, 7, 0],\n",
    "    [0, 0, 8, 0, 7, 0, 0, 0, 0],\n",
    "    [0, 0, 0, 2, 0, 0, 1, 0, 0],\n",
    "    [0, 0, 0, 0, 0, 4, 0, 0, 0],\n",
    "    [5, 0, 0, 0, 0, 0, 0, 8, 0],\n",
    "    [0, 0, 0, 0, 0, 0, 0, 0, 0],\n",
    "    [0, 9, 6, 0, 0, 0, 3, 0, 0]\n",
    "]\n",
    "# Test Board 1\n",
    "solve_sudoku(board1)\n",
    "print(\"Solved Board 1:\")\n",
    "print_board(board1)\n",
    "\n",
    "# Test Board 2\n",
    "solve_sudoku(board2)\n",
    "print(\"\\nSolved Board 2:\")\n",
    "print_board(board2)\n",
    "\n",
    "# Test Board 3\n",
    "solve_sudoku(board3)\n",
    "print(\"\\nSolved Board 3:\")\n",
    "print_board(board3)\n",
    "\n",
    "# Test Board 4\n",
    "solve_sudoku(board4)\n",
    "print(\"\\nSolved Board 4:\")\n",
    "print_board(board4)\n"
   ]
  },
  {
   "cell_type": "code",
   "execution_count": 4,
   "id": "b7e74e37-5927-4b45-908b-4635f59e7ecc",
   "metadata": {},
   "outputs": [],
   "source": [
    "import Digital_Clock\n"
   ]
  },
  {
   "cell_type": "code",
   "execution_count": 5,
   "id": "4377930a-7538-4b30-9c84-a7754e5e77e0",
   "metadata": {},
   "outputs": [
    {
     "name": "stdout",
     "output_type": "stream",
     "text": [
      "CPU times: total: 0 ns\n",
      "Wall time: 0 ns\n"
     ]
    },
    {
     "data": {
      "text/plain": [
       "()"
      ]
     },
     "execution_count": 5,
     "metadata": {},
     "output_type": "execute_result"
    }
   ],
   "source": [
    "time()"
   ]
  },
  {
   "cell_type": "code",
   "execution_count": null,
   "id": "bb505f68-8bc2-434e-aba9-2168d21e6c85",
   "metadata": {},
   "outputs": [],
   "source": []
  }
 ],
 "metadata": {
  "kernelspec": {
   "display_name": "Python 3 (ipykernel)",
   "language": "python",
   "name": "python3"
  },
  "language_info": {
   "codemirror_mode": {
    "name": "ipython",
    "version": 3
   },
   "file_extension": ".py",
   "mimetype": "text/x-python",
   "name": "python",
   "nbconvert_exporter": "python",
   "pygments_lexer": "ipython3",
   "version": "3.11.7"
  }
 },
 "nbformat": 4,
 "nbformat_minor": 5
}
